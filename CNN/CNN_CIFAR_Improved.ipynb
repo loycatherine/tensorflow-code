{
  "nbformat": 4,
  "nbformat_minor": 0,
  "metadata": {
    "colab": {
      "name": "CNN CIFAR Improved.ipynb",
      "provenance": [],
      "collapsed_sections": [],
      "authorship_tag": "ABX9TyNo5ONHXGZrInP/+YZHrBmP"
    },
    "kernelspec": {
      "name": "python3",
      "display_name": "Python 3"
    },
    "accelerator": "GPU"
  },
  "cells": [
    {
      "cell_type": "code",
      "metadata": {
        "id": "ECNft9ReA9Wi",
        "colab_type": "code",
        "colab": {}
      },
      "source": [
        "import tensorflow as tf"
      ],
      "execution_count": 0,
      "outputs": []
    },
    {
      "cell_type": "code",
      "metadata": {
        "id": "-m6FwG5gCXiW",
        "colab_type": "code",
        "colab": {}
      },
      "source": [
        "import numpy as np\n",
        "import matplotlib.pyplot as plt\n",
        "from tensorflow.keras.layers import Input, Conv2D, Dense, Flatten, Dropout, GlobalMaxPooling2D, MaxPooling2D, BatchNormalization\n",
        "from tensorflow.keras.models import Model"
      ],
      "execution_count": 0,
      "outputs": []
    },
    {
      "cell_type": "code",
      "metadata": {
        "id": "EDsa7jHaDXIx",
        "colab_type": "code",
        "colab": {}
      },
      "source": [
        "# Load in the data\n",
        "cifar10 = tf.keras.datasets.cifar10"
      ],
      "execution_count": 0,
      "outputs": []
    },
    {
      "cell_type": "code",
      "metadata": {
        "id": "pUSNpPSrDhqf",
        "colab_type": "code",
        "outputId": "33020e81-d013-4c0f-83db-8ba1a5d7b193",
        "colab": {
          "base_uri": "https://localhost:8080/",
          "height": 52
        }
      },
      "source": [
        "(train_images, train_labels), (test_images, test_labels) = cifar10.load_data()"
      ],
      "execution_count": 0,
      "outputs": [
        {
          "output_type": "stream",
          "text": [
            "Downloading data from https://www.cs.toronto.edu/~kriz/cifar-10-python.tar.gz\n",
            "170500096/170498071 [==============================] - 4s 0us/step\n"
          ],
          "name": "stdout"
        }
      ]
    },
    {
      "cell_type": "code",
      "metadata": {
        "id": "6XTS3UWKDl12",
        "colab_type": "code",
        "outputId": "cd7ca0cf-648b-41f6-e66c-ed27692b1bf2",
        "colab": {
          "base_uri": "https://localhost:8080/",
          "height": 35
        }
      },
      "source": [
        "train_images.shape"
      ],
      "execution_count": 0,
      "outputs": [
        {
          "output_type": "execute_result",
          "data": {
            "text/plain": [
              "(50000, 32, 32, 3)"
            ]
          },
          "metadata": {
            "tags": []
          },
          "execution_count": 5
        }
      ]
    },
    {
      "cell_type": "code",
      "metadata": {
        "id": "0wGxE-3QEimb",
        "colab_type": "code",
        "outputId": "0ffc0875-c2eb-4176-e2cc-00cdcc7d86c6",
        "colab": {
          "base_uri": "https://localhost:8080/",
          "height": 35
        }
      },
      "source": [
        "train_labels.shape"
      ],
      "execution_count": 0,
      "outputs": [
        {
          "output_type": "execute_result",
          "data": {
            "text/plain": [
              "(50000, 1)"
            ]
          },
          "metadata": {
            "tags": []
          },
          "execution_count": 6
        }
      ]
    },
    {
      "cell_type": "code",
      "metadata": {
        "id": "HZpm1ptsExXj",
        "colab_type": "code",
        "outputId": "714e79c2-b914-4960-b2cb-e33de2798151",
        "colab": {
          "base_uri": "https://localhost:8080/",
          "height": 139
        }
      },
      "source": [
        "print(train_labels)"
      ],
      "execution_count": 0,
      "outputs": [
        {
          "output_type": "stream",
          "text": [
            "[[6]\n",
            " [9]\n",
            " [9]\n",
            " ...\n",
            " [9]\n",
            " [1]\n",
            " [1]]\n"
          ],
          "name": "stdout"
        }
      ]
    },
    {
      "cell_type": "code",
      "metadata": {
        "id": "WDWZDCmsENIM",
        "colab_type": "code",
        "colab": {}
      },
      "source": [
        "train_images, test_images = train_images/255.0, test_images/255.0\n",
        "train_labels, test_labels = train_labels.flatten(), test_labels.flatten()"
      ],
      "execution_count": 0,
      "outputs": []
    },
    {
      "cell_type": "code",
      "metadata": {
        "id": "Xou_N2klE58x",
        "colab_type": "code",
        "outputId": "3cd3cca1-5d38-4487-9298-5f3f7623a98a",
        "colab": {
          "base_uri": "https://localhost:8080/",
          "height": 52
        }
      },
      "source": [
        "print(\"train_images.shape:\", train_images.shape)\n",
        "print(\"train_labels.shape\", train_labels.shape)"
      ],
      "execution_count": 0,
      "outputs": [
        {
          "output_type": "stream",
          "text": [
            "train_images.shape: (50000, 32, 32, 3)\n",
            "train_labels.shape (50000,)\n"
          ],
          "name": "stdout"
        }
      ]
    },
    {
      "cell_type": "code",
      "metadata": {
        "id": "pNpB87EgFMdd",
        "colab_type": "code",
        "outputId": "9b14c68c-ef47-45f2-fd94-f90df4731539",
        "colab": {
          "base_uri": "https://localhost:8080/",
          "height": 35
        }
      },
      "source": [
        "print(train_labels)"
      ],
      "execution_count": 0,
      "outputs": [
        {
          "output_type": "stream",
          "text": [
            "[6 9 9 ... 9 1 1]\n"
          ],
          "name": "stdout"
        }
      ]
    },
    {
      "cell_type": "code",
      "metadata": {
        "id": "VxZm84TqFPrw",
        "colab_type": "code",
        "outputId": "c946da18-4f11-4e22-d58c-1b27d187566f",
        "colab": {
          "base_uri": "https://localhost:8080/",
          "height": 35
        }
      },
      "source": [
        "# number of classes\n",
        "K = len(set(train_labels))\n",
        "print(K)"
      ],
      "execution_count": 0,
      "outputs": [
        {
          "output_type": "stream",
          "text": [
            "10\n"
          ],
          "name": "stdout"
        }
      ]
    },
    {
      "cell_type": "code",
      "metadata": {
        "id": "a2fKl2eQFbtn",
        "colab_type": "code",
        "colab": {}
      },
      "source": [
        "# Build the model using the functional API\n",
        "i = Input(shape=train_images[0].shape)\n",
        "x = Conv2D(32, (3,3), activation=\"relu\", padding=\"same\")(i)\n",
        "x = BatchNormalization()(x)\n",
        "x = Conv2D(32, (3,3), activation=\"relu\", padding=\"same\")(x)\n",
        "x = BatchNormalization()(x)\n",
        "x = MaxPooling2D((2,2))(x)\n",
        "x = Conv2D(64, (3,3), activation=\"relu\", padding=\"same\")(x)\n",
        "x = BatchNormalization()(x)\n",
        "x = Conv2D(64, (3,3), activation=\"relu\", padding=\"same\")(x)\n",
        "x = BatchNormalization()(x)\n",
        "x = MaxPooling2D((2,2))(x)\n",
        "x = Conv2D(128, (3,3), activation=\"relu\", padding=\"same\")(x)\n",
        "x = BatchNormalization()(x)\n",
        "x = Conv2D(128, (3,3), activation=\"relu\", padding=\"same\")(x)\n",
        "x = BatchNormalization()(x)\n",
        "x = MaxPooling2D((2,2))(x)\n",
        "\n",
        "x = Flatten()(x)\n",
        "x = Dropout(0.2)(x)\n",
        "x = Dense(1024, activation=\"relu\")(x)\n",
        "x = Dropout(0.2)(x)\n",
        "x = Dense(K, activation=\"softmax\")(x)\n",
        "\n",
        "model = Model(i, x)"
      ],
      "execution_count": 0,
      "outputs": []
    },
    {
      "cell_type": "code",
      "metadata": {
        "id": "ahmWLt6XGY4s",
        "colab_type": "code",
        "colab": {}
      },
      "source": [
        "model.compile(optimizer=\"adam\",\n",
        "              loss=\"sparse_categorical_crossentropy\",\n",
        "              metrics=[\"accuracy\"])"
      ],
      "execution_count": 0,
      "outputs": []
    },
    {
      "cell_type": "code",
      "metadata": {
        "id": "lb77zKH_IpUc",
        "colab_type": "code",
        "colab": {}
      },
      "source": [
        "# Fit with data augmentation\n",
        "\n",
        "batch_size= 32\n",
        "data_generator = tf.keras.preprocessing.image.ImageDataGenerator(width_shift_range=0.1, height_shift_range=0.1, horizontal_flip=True)\n",
        "train_generator = data_generator.flow(train_images, train_labels, batch_size)\n",
        "steps_per_epoch = train_images.shape[0] // batch_size"
      ],
      "execution_count": 0,
      "outputs": []
    },
    {
      "cell_type": "code",
      "metadata": {
        "id": "hTiH7GU5KBGc",
        "colab_type": "code",
        "outputId": "1ce6bfee-b70e-49c3-8d53-6279baac3d26",
        "colab": {
          "base_uri": "https://localhost:8080/",
          "height": 1000
        }
      },
      "source": [
        "r = model.fit(\n",
        "    train_generator,\n",
        "    validation_data=(test_images, test_labels),\n",
        "    steps_per_epoch=steps_per_epoch, \n",
        "    epochs=50\n",
        ")"
      ],
      "execution_count": 0,
      "outputs": [
        {
          "output_type": "stream",
          "text": [
            "Epoch 1/50\n",
            "1562/1562 [==============================] - 24s 16ms/step - loss: 1.4680 - accuracy: 0.4832 - val_loss: 1.0173 - val_accuracy: 0.6314\n",
            "Epoch 2/50\n",
            "1562/1562 [==============================] - 24s 15ms/step - loss: 1.0165 - accuracy: 0.6475 - val_loss: 0.9964 - val_accuracy: 0.6676\n",
            "Epoch 3/50\n",
            "1562/1562 [==============================] - 24s 15ms/step - loss: 0.8642 - accuracy: 0.6985 - val_loss: 0.8307 - val_accuracy: 0.7121\n",
            "Epoch 4/50\n",
            "1562/1562 [==============================] - 24s 15ms/step - loss: 0.7627 - accuracy: 0.7375 - val_loss: 1.0851 - val_accuracy: 0.6619\n",
            "Epoch 5/50\n",
            "1562/1562 [==============================] - 24s 15ms/step - loss: 0.7023 - accuracy: 0.7618 - val_loss: 0.6926 - val_accuracy: 0.7694\n",
            "Epoch 6/50\n",
            "1562/1562 [==============================] - 24s 15ms/step - loss: 0.6408 - accuracy: 0.7839 - val_loss: 0.6698 - val_accuracy: 0.7809\n",
            "Epoch 7/50\n",
            "1562/1562 [==============================] - 24s 15ms/step - loss: 0.5956 - accuracy: 0.7976 - val_loss: 0.6027 - val_accuracy: 0.8028\n",
            "Epoch 8/50\n",
            "1562/1562 [==============================] - 24s 15ms/step - loss: 0.5543 - accuracy: 0.8101 - val_loss: 0.5863 - val_accuracy: 0.8040\n",
            "Epoch 9/50\n",
            "1562/1562 [==============================] - 24s 15ms/step - loss: 0.5249 - accuracy: 0.8213 - val_loss: 0.6359 - val_accuracy: 0.7952\n",
            "Epoch 10/50\n",
            "1562/1562 [==============================] - 24s 15ms/step - loss: 0.4972 - accuracy: 0.8316 - val_loss: 0.6587 - val_accuracy: 0.7858\n",
            "Epoch 11/50\n",
            "1562/1562 [==============================] - 24s 15ms/step - loss: 0.4740 - accuracy: 0.8393 - val_loss: 0.5950 - val_accuracy: 0.8125\n",
            "Epoch 12/50\n",
            "1562/1562 [==============================] - 24s 15ms/step - loss: 0.4453 - accuracy: 0.8469 - val_loss: 0.4755 - val_accuracy: 0.8448\n",
            "Epoch 13/50\n",
            "1562/1562 [==============================] - 24s 15ms/step - loss: 0.4307 - accuracy: 0.8532 - val_loss: 0.4892 - val_accuracy: 0.8412\n",
            "Epoch 14/50\n",
            "1562/1562 [==============================] - 24s 15ms/step - loss: 0.4089 - accuracy: 0.8612 - val_loss: 0.4816 - val_accuracy: 0.8462\n",
            "Epoch 15/50\n",
            "1562/1562 [==============================] - 24s 15ms/step - loss: 0.3960 - accuracy: 0.8624 - val_loss: 0.5773 - val_accuracy: 0.8138\n",
            "Epoch 16/50\n",
            "1562/1562 [==============================] - 24s 15ms/step - loss: 0.3802 - accuracy: 0.8701 - val_loss: 0.5679 - val_accuracy: 0.8291\n",
            "Epoch 17/50\n",
            "1562/1562 [==============================] - 24s 15ms/step - loss: 0.3647 - accuracy: 0.8745 - val_loss: 0.4286 - val_accuracy: 0.8596\n",
            "Epoch 18/50\n",
            "1562/1562 [==============================] - 24s 15ms/step - loss: 0.3542 - accuracy: 0.8768 - val_loss: 0.4267 - val_accuracy: 0.8614\n",
            "Epoch 19/50\n",
            "1562/1562 [==============================] - 24s 15ms/step - loss: 0.3463 - accuracy: 0.8813 - val_loss: 0.4235 - val_accuracy: 0.8630\n",
            "Epoch 20/50\n",
            "1562/1562 [==============================] - 24s 15ms/step - loss: 0.3315 - accuracy: 0.8877 - val_loss: 0.5006 - val_accuracy: 0.8368\n",
            "Epoch 21/50\n",
            "1562/1562 [==============================] - 24s 15ms/step - loss: 0.3253 - accuracy: 0.8881 - val_loss: 0.4293 - val_accuracy: 0.8586\n",
            "Epoch 22/50\n",
            "1562/1562 [==============================] - 24s 15ms/step - loss: 0.3157 - accuracy: 0.8908 - val_loss: 0.5014 - val_accuracy: 0.8479\n",
            "Epoch 23/50\n",
            "1562/1562 [==============================] - 24s 15ms/step - loss: 0.3049 - accuracy: 0.8941 - val_loss: 0.4718 - val_accuracy: 0.8551\n",
            "Epoch 24/50\n",
            "1562/1562 [==============================] - 24s 16ms/step - loss: 0.2991 - accuracy: 0.8973 - val_loss: 0.4626 - val_accuracy: 0.8601\n",
            "Epoch 25/50\n",
            "1562/1562 [==============================] - 24s 15ms/step - loss: 0.2831 - accuracy: 0.9020 - val_loss: 0.4531 - val_accuracy: 0.8632\n",
            "Epoch 26/50\n",
            "1562/1562 [==============================] - 24s 15ms/step - loss: 0.2816 - accuracy: 0.9035 - val_loss: 0.3825 - val_accuracy: 0.8751\n",
            "Epoch 27/50\n",
            "1562/1562 [==============================] - 24s 15ms/step - loss: 0.2725 - accuracy: 0.9061 - val_loss: 0.4093 - val_accuracy: 0.8674\n",
            "Epoch 28/50\n",
            "1562/1562 [==============================] - 24s 15ms/step - loss: 0.2652 - accuracy: 0.9087 - val_loss: 0.4618 - val_accuracy: 0.8594\n",
            "Epoch 29/50\n",
            "1562/1562 [==============================] - 24s 15ms/step - loss: 0.2589 - accuracy: 0.9110 - val_loss: 0.4016 - val_accuracy: 0.8687\n",
            "Epoch 30/50\n",
            "1562/1562 [==============================] - 24s 15ms/step - loss: 0.2588 - accuracy: 0.9116 - val_loss: 0.4359 - val_accuracy: 0.8641\n",
            "Epoch 31/50\n",
            "1562/1562 [==============================] - 24s 15ms/step - loss: 0.2517 - accuracy: 0.9141 - val_loss: 0.4902 - val_accuracy: 0.8557\n",
            "Epoch 32/50\n",
            "1562/1562 [==============================] - 24s 15ms/step - loss: 0.2418 - accuracy: 0.9160 - val_loss: 0.3948 - val_accuracy: 0.8772\n",
            "Epoch 33/50\n",
            "1562/1562 [==============================] - 24s 15ms/step - loss: 0.2400 - accuracy: 0.9177 - val_loss: 0.3910 - val_accuracy: 0.8765\n",
            "Epoch 34/50\n",
            "1562/1562 [==============================] - 24s 15ms/step - loss: 0.2355 - accuracy: 0.9183 - val_loss: 0.3787 - val_accuracy: 0.8802\n",
            "Epoch 35/50\n",
            "1562/1562 [==============================] - 24s 15ms/step - loss: 0.2311 - accuracy: 0.9207 - val_loss: 0.4044 - val_accuracy: 0.8763\n",
            "Epoch 36/50\n",
            "1562/1562 [==============================] - 24s 15ms/step - loss: 0.2253 - accuracy: 0.9229 - val_loss: 0.4440 - val_accuracy: 0.8671\n",
            "Epoch 37/50\n",
            "1562/1562 [==============================] - 24s 16ms/step - loss: 0.2245 - accuracy: 0.9216 - val_loss: 0.3925 - val_accuracy: 0.8800\n",
            "Epoch 38/50\n",
            "1562/1562 [==============================] - 24s 15ms/step - loss: 0.2200 - accuracy: 0.9236 - val_loss: 0.3820 - val_accuracy: 0.8819\n",
            "Epoch 39/50\n",
            "1562/1562 [==============================] - 24s 15ms/step - loss: 0.2162 - accuracy: 0.9249 - val_loss: 0.3739 - val_accuracy: 0.8814\n",
            "Epoch 40/50\n",
            "1562/1562 [==============================] - 24s 15ms/step - loss: 0.2097 - accuracy: 0.9290 - val_loss: 0.4073 - val_accuracy: 0.8740\n",
            "Epoch 41/50\n",
            "1562/1562 [==============================] - 24s 15ms/step - loss: 0.2113 - accuracy: 0.9270 - val_loss: 0.4205 - val_accuracy: 0.8717\n",
            "Epoch 42/50\n",
            "1562/1562 [==============================] - 24s 15ms/step - loss: 0.2057 - accuracy: 0.9290 - val_loss: 0.3832 - val_accuracy: 0.8856\n",
            "Epoch 43/50\n",
            "1562/1562 [==============================] - 24s 15ms/step - loss: 0.2010 - accuracy: 0.9306 - val_loss: 0.4006 - val_accuracy: 0.8792\n",
            "Epoch 44/50\n",
            "1562/1562 [==============================] - 24s 15ms/step - loss: 0.1989 - accuracy: 0.9319 - val_loss: 0.4575 - val_accuracy: 0.8757\n",
            "Epoch 45/50\n",
            "1562/1562 [==============================] - 24s 15ms/step - loss: 0.1989 - accuracy: 0.9318 - val_loss: 0.3986 - val_accuracy: 0.8787\n",
            "Epoch 46/50\n",
            "1562/1562 [==============================] - 24s 15ms/step - loss: 0.1933 - accuracy: 0.9344 - val_loss: 0.3912 - val_accuracy: 0.8839\n",
            "Epoch 47/50\n",
            "1562/1562 [==============================] - 24s 15ms/step - loss: 0.1894 - accuracy: 0.9351 - val_loss: 0.4231 - val_accuracy: 0.8839\n",
            "Epoch 48/50\n",
            "1562/1562 [==============================] - 24s 15ms/step - loss: 0.1868 - accuracy: 0.9346 - val_loss: 0.4063 - val_accuracy: 0.8809\n",
            "Epoch 49/50\n",
            "1562/1562 [==============================] - 24s 15ms/step - loss: 0.1841 - accuracy: 0.9373 - val_loss: 0.3749 - val_accuracy: 0.8872\n",
            "Epoch 50/50\n",
            "1562/1562 [==============================] - 24s 15ms/step - loss: 0.1862 - accuracy: 0.9363 - val_loss: 0.4010 - val_accuracy: 0.8835\n"
          ],
          "name": "stdout"
        }
      ]
    },
    {
      "cell_type": "code",
      "metadata": {
        "id": "XiVGSU-XKWJ0",
        "colab_type": "code",
        "outputId": "7ba5c2c4-a55d-4143-a8f9-8dc75e8186e4",
        "colab": {
          "base_uri": "https://localhost:8080/",
          "height": 283
        }
      },
      "source": [
        "plt.plot(r.history[\"loss\"], label=\"loss\")\n",
        "plt.plot(r.history[\"val_loss\"], label=\"val_loss\")\n",
        "plt.legend()"
      ],
      "execution_count": 0,
      "outputs": [
        {
          "output_type": "execute_result",
          "data": {
            "text/plain": [
              "<matplotlib.legend.Legend at 0x7f33d7bcb4a8>"
            ]
          },
          "metadata": {
            "tags": []
          },
          "execution_count": 16
        },
        {
          "output_type": "display_data",
          "data": {
            "image/png": "[encoded data removed]",
            "text/plain": [
              "<Figure size 432x288 with 1 Axes>"
            ]
          },
          "metadata": {
            "tags": [],
            "needs_background": "light"
          }
        }
      ]
    },
    {
      "cell_type": "code",
      "metadata": {
        "id": "5fe5OXBl7jWJ",
        "colab_type": "code",
        "outputId": "01191d4b-c214-4c58-8fc9-9206318f9f8e",
        "colab": {
          "base_uri": "https://localhost:8080/",
          "height": 283
        }
      },
      "source": [
        "plt.plot(r.history[\"accuracy\"], label=\"acc\")\n",
        "plt.plot(r.history[\"val_accuracy\"], label=\"val_acc\")\n",
        "plt.legend()"
      ],
      "execution_count": 0,
      "outputs": [
        {
          "output_type": "execute_result",
          "data": {
            "text/plain": [
              "<matplotlib.legend.Legend at 0x7f33d7cddc88>"
            ]
          },
          "metadata": {
            "tags": []
          },
          "execution_count": 17
        },
        {
          "output_type": "display_data",
          "data": {
            "image/png": "[encoded data removed]",
            "text/plain": [
              "<Figure size 432x288 with 1 Axes>"
            ]
          },
          "metadata": {
            "tags": [],
            "needs_background": "light"
          }
        }
      ]
    },
    {
      "cell_type": "code",
      "metadata": {
        "id": "6xfJb2mx75gx",
        "colab_type": "code",
        "outputId": "48af24bb-dcde-4b1e-8039-3d6c52565120",
        "colab": {
          "base_uri": "https://localhost:8080/",
          "height": 502
        }
      },
      "source": [
        "# Plot confusion matrix\n",
        "from sklearn.metrics import confusion_matrix\n",
        "import itertools\n",
        "\n",
        "def plot_confusion_matrix(cm, classes,\n",
        "                          normalize=False,\n",
        "                          title='Confusion matrix',\n",
        "                          cmap=plt.cm.Blues):\n",
        "  \"\"\"\n",
        "  This function prints and plots the confusion matrix.\n",
        "  Normalization can be applied by setting `normalize=True`.\n",
        "  \"\"\"\n",
        "  if normalize:\n",
        "      cm = cm.astype('float') / cm.sum(axis=1)[:, np.newaxis]\n",
        "      print(\"Normalized confusion matrix\")\n",
        "  else:\n",
        "      print('Confusion matrix, without normalization')\n",
        "\n",
        "  print(cm)\n",
        "\n",
        "  plt.imshow(cm, interpolation='nearest', cmap=cmap)\n",
        "  plt.title(title)\n",
        "  plt.colorbar()\n",
        "  tick_marks = np.arange(len(classes))\n",
        "  plt.xticks(tick_marks, classes, rotation=45)\n",
        "  plt.yticks(tick_marks, classes)\n",
        "\n",
        "  fmt = '.2f' if normalize else 'd'\n",
        "  thresh = cm.max() / 2.\n",
        "  for i, j in itertools.product(range(cm.shape[0]), range(cm.shape[1])):\n",
        "      plt.text(j, i, format(cm[i, j], fmt),\n",
        "               horizontalalignment=\"center\",\n",
        "               color=\"white\" if cm[i, j] > thresh else \"black\")\n",
        "\n",
        "  plt.tight_layout()\n",
        "  plt.ylabel('True label')\n",
        "  plt.xlabel('Predicted label')\n",
        "  plt.show()\n",
        "\n",
        "\n",
        "p_test = model.predict(test_images).argmax(axis=1)\n",
        "cm = confusion_matrix(test_labels, p_test)\n",
        "plot_confusion_matrix(cm, list(range(10)))\n"
      ],
      "execution_count": 0,
      "outputs": [
        {
          "output_type": "stream",
          "text": [
            "Confusion matrix, without normalization\n",
            "[[887   5  37   7   6   2   3   5  38  10]\n",
            " [  5 958   0   1   0   0   0   0  15  21]\n",
            " [ 26   0 823  30  36  20  33  23   7   2]\n",
            " [  9   3  29 752  42  71  51  25  10   8]\n",
            " [  3   1  24  26 894  12  18  17   5   0]\n",
            " [  6   3  17 101  23 807  15  20   3   5]\n",
            " [  6   2  11  18  17   6 930   5   5   0]\n",
            " [  6   1   5   9  24  25   3 919   3   5]\n",
            " [ 23   9   4   4   1   1   1   0 952   5]\n",
            " [ 16  43   0   2   1   1   2   3  19 913]]\n"
          ],
          "name": "stdout"
        },
        {
          "output_type": "display_data",
          "data": {
            "image/png": "[encoded data removed]",
            "text/plain": [
              "<Figure size 432x288 with 2 Axes>"
            ]
          },
          "metadata": {
            "tags": [],
            "needs_background": "light"
          }
        }
      ]
    },
    {
      "cell_type": "code",
      "metadata": {
        "id": "hJ9vV23s78WZ",
        "colab_type": "code",
        "colab": {}
      },
      "source": [
        "# label mapping\n",
        "labels = '''airplane\n",
        "automobile\n",
        "bird\n",
        "cat\n",
        "deer\n",
        "dog\n",
        "frog\n",
        "horse\n",
        "ship\n",
        "truck'''.split()"
      ],
      "execution_count": 0,
      "outputs": []
    },
    {
      "cell_type": "code",
      "metadata": {
        "id": "FXOqmUJq8FkX",
        "colab_type": "code",
        "outputId": "9bee30ff-9b34-4653-bba6-5967686d4023",
        "colab": {
          "base_uri": "https://localhost:8080/",
          "height": 281
        }
      },
      "source": [
        "# Show some misclassified examples\n",
        "misclassified_idx = np.where(p_test != test_labels)[0]\n",
        "i = np.random.choice(misclassified_idx)\n",
        "plt.imshow(test_images[i], cmap='gray')\n",
        "plt.title(\"True label: %s Predicted: %s\" % (labels[test_labels[i]], labels[p_test[i]]));"
      ],
      "execution_count": 0,
      "outputs": [
        {
          "output_type": "display_data",
          "data": {
            "image/png": "[encoded data removed]",
            "text/plain": [
              "<Figure size 432x288 with 1 Axes>"
            ]
          },
          "metadata": {
            "tags": [],
            "needs_background": "light"
          }
        }
      ]
    }
  ]
}
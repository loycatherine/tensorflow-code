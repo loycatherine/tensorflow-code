{
  "nbformat": 4,
  "nbformat_minor": 0,
  "metadata": {
    "colab": {
      "name": "CNN CIFAR.ipynb",
      "provenance": [],
      "collapsed_sections": [],
      "authorship_tag": "ABX9TyNnmqnKdGl+ItjNJpGGMHvs"
    },
    "kernelspec": {
      "name": "python3",
      "display_name": "Python 3"
    },
    "accelerator": "GPU"
  },
  "cells": [
    {
      "cell_type": "code",
      "metadata": {
        "id": "ECNft9ReA9Wi",
        "colab_type": "code",
        "colab": {}
      },
      "source": [
        "import tensorflow as tf"
      ],
      "execution_count": 0,
      "outputs": []
    },
    {
      "cell_type": "code",
      "metadata": {
        "id": "-m6FwG5gCXiW",
        "colab_type": "code",
        "colab": {}
      },
      "source": [
        "import numpy as np\n",
        "import matplotlib.pyplot as plt\n",
        "from tensorflow.keras.layers import Input, Conv2D, Dense, Flatten, Dropout, GlobalMaxPooling2D, MaxPooling2D, BatchNormalization\n",
        "from tensorflow.keras.models import Model"
      ],
      "execution_count": 0,
      "outputs": []
    },
    {
      "cell_type": "code",
      "metadata": {
        "id": "EDsa7jHaDXIx",
        "colab_type": "code",
        "colab": {}
      },
      "source": [
        "# Load in the data\n",
        "cifar10 = tf.keras.datasets.cifar10"
      ],
      "execution_count": 0,
      "outputs": []
    },
    {
      "cell_type": "code",
      "metadata": {
        "id": "pUSNpPSrDhqf",
        "colab_type": "code",
        "outputId": "e6af3ba7-c6be-4c45-d7cf-a78279e696d5",
        "colab": {
          "base_uri": "https://localhost:8080/",
          "height": 52
        }
      },
      "source": [
        "(train_images, train_labels), (test_images, test_labels) = cifar10.load_data()"
      ],
      "execution_count": 4,
      "outputs": [
        {
          "output_type": "stream",
          "text": [
            "Downloading data from https://www.cs.toronto.edu/~kriz/cifar-10-python.tar.gz\n",
            "170500096/170498071 [==============================] - 6s 0us/step\n"
          ],
          "name": "stdout"
        }
      ]
    },
    {
      "cell_type": "code",
      "metadata": {
        "id": "6XTS3UWKDl12",
        "colab_type": "code",
        "outputId": "2256fe79-01d6-4fb0-f87f-be03996ee5b6",
        "colab": {
          "base_uri": "https://localhost:8080/",
          "height": 35
        }
      },
      "source": [
        "train_images.shape"
      ],
      "execution_count": 5,
      "outputs": [
        {
          "output_type": "execute_result",
          "data": {
            "text/plain": [
              "(50000, 32, 32, 3)"
            ]
          },
          "metadata": {
            "tags": []
          },
          "execution_count": 5
        }
      ]
    },
    {
      "cell_type": "code",
      "metadata": {
        "id": "0wGxE-3QEimb",
        "colab_type": "code",
        "outputId": "5ac2de76-8463-4f96-f76e-b2c6b6ec2678",
        "colab": {
          "base_uri": "https://localhost:8080/",
          "height": 35
        }
      },
      "source": [
        "train_labels.shape"
      ],
      "execution_count": 6,
      "outputs": [
        {
          "output_type": "execute_result",
          "data": {
            "text/plain": [
              "(50000, 1)"
            ]
          },
          "metadata": {
            "tags": []
          },
          "execution_count": 6
        }
      ]
    },
    {
      "cell_type": "code",
      "metadata": {
        "id": "HZpm1ptsExXj",
        "colab_type": "code",
        "outputId": "9a7cde95-3695-4556-ed6a-a9b041370498",
        "colab": {
          "base_uri": "https://localhost:8080/",
          "height": 139
        }
      },
      "source": [
        "print(train_labels)"
      ],
      "execution_count": 7,
      "outputs": [
        {
          "output_type": "stream",
          "text": [
            "[[6]\n",
            " [9]\n",
            " [9]\n",
            " ...\n",
            " [9]\n",
            " [1]\n",
            " [1]]\n"
          ],
          "name": "stdout"
        }
      ]
    },
    {
      "cell_type": "code",
      "metadata": {
        "id": "WDWZDCmsENIM",
        "colab_type": "code",
        "colab": {}
      },
      "source": [
        "train_images, test_images = train_images/255.0, test_images/255.0\n",
        "train_labels, test_labels = train_labels.flatten(), test_labels.flatten()"
      ],
      "execution_count": 0,
      "outputs": []
    },
    {
      "cell_type": "code",
      "metadata": {
        "id": "Xou_N2klE58x",
        "colab_type": "code",
        "outputId": "57b96ca1-8f42-44d7-9fb4-704db0cbd2ef",
        "colab": {
          "base_uri": "https://localhost:8080/",
          "height": 52
        }
      },
      "source": [
        "print(\"train_images.shape:\", train_images.shape)\n",
        "print(\"train_labels.shape\", train_labels.shape)"
      ],
      "execution_count": 9,
      "outputs": [
        {
          "output_type": "stream",
          "text": [
            "train_images.shape: (50000, 32, 32, 3)\n",
            "train_labels.shape (50000,)\n"
          ],
          "name": "stdout"
        }
      ]
    },
    {
      "cell_type": "code",
      "metadata": {
        "id": "pNpB87EgFMdd",
        "colab_type": "code",
        "outputId": "10dc8eaf-a0f6-46be-ca27-743238243ff7",
        "colab": {
          "base_uri": "https://localhost:8080/",
          "height": 35
        }
      },
      "source": [
        "print(train_labels)"
      ],
      "execution_count": 10,
      "outputs": [
        {
          "output_type": "stream",
          "text": [
            "[6 9 9 ... 9 1 1]\n"
          ],
          "name": "stdout"
        }
      ]
    },
    {
      "cell_type": "code",
      "metadata": {
        "id": "VxZm84TqFPrw",
        "colab_type": "code",
        "outputId": "c9bacade-7fe1-4e61-c05a-ed1b419976fc",
        "colab": {
          "base_uri": "https://localhost:8080/",
          "height": 35
        }
      },
      "source": [
        "# number of classes\n",
        "K = len(set(train_labels))\n",
        "print(K)"
      ],
      "execution_count": 11,
      "outputs": [
        {
          "output_type": "stream",
          "text": [
            "10\n"
          ],
          "name": "stdout"
        }
      ]
    },
    {
      "cell_type": "code",
      "metadata": {
        "id": "a2fKl2eQFbtn",
        "colab_type": "code",
        "colab": {}
      },
      "source": [
        "# Build the model using the functional API\n",
        "i = Input(shape=train_images[0].shape)\n",
        "x = Conv2D(32, (3,3), activation=\"relu\", padding=\"same\")(i)\n",
        "x = Conv2D(64, (3,3), activation=\"relu\", padding=\"same\")(x)\n",
        "x = Conv2D(128, (3,3), activation=\"relu\", padding=\"same\")(x)\n",
        "\n",
        "x = Flatten()(x)\n",
        "x = Dropout(0.5)(x)\n",
        "x = Dense(1024, activation=\"relu\")(x)\n",
        "x = Dropout(0.2)(x)\n",
        "x = Dense(K, activation=\"softmax\")(x)\n",
        "\n",
        "model = Model(i, x)"
      ],
      "execution_count": 0,
      "outputs": []
    },
    {
      "cell_type": "code",
      "metadata": {
        "id": "ahmWLt6XGY4s",
        "colab_type": "code",
        "colab": {}
      },
      "source": [
        "model.compile(optimizer=\"adam\",\n",
        "              loss=\"sparse_categorical_crossentropy\",\n",
        "              metrics=[\"accuracy\"])"
      ],
      "execution_count": 0,
      "outputs": []
    },
    {
      "cell_type": "code",
      "metadata": {
        "id": "hTiH7GU5KBGc",
        "colab_type": "code",
        "outputId": "517b48a3-6400-4385-a6bb-55003ae785a5",
        "colab": {
          "base_uri": "https://localhost:8080/",
          "height": 711
        }
      },
      "source": [
        "r = model.fit(\n",
        "    train_images,\n",
        "    train_labels,\n",
        "    validation_data=(test_images, test_labels),\n",
        "    epochs=20\n",
        ")"
      ],
      "execution_count": 15,
      "outputs": [
        {
          "output_type": "stream",
          "text": [
            "Epoch 1/20\n",
            "1563/1563 [==============================] - 87s 55ms/step - loss: 1.4278 - accuracy: 0.4922 - val_loss: 1.0749 - val_accuracy: 0.6170\n",
            "Epoch 2/20\n",
            "1563/1563 [==============================] - 86s 55ms/step - loss: 0.9900 - accuracy: 0.6492 - val_loss: 0.9560 - val_accuracy: 0.6649\n",
            "Epoch 3/20\n",
            "1563/1563 [==============================] - 86s 55ms/step - loss: 0.7329 - accuracy: 0.7434 - val_loss: 0.9175 - val_accuracy: 0.6800\n",
            "Epoch 4/20\n",
            "1563/1563 [==============================] - 86s 55ms/step - loss: 0.4810 - accuracy: 0.8335 - val_loss: 0.9642 - val_accuracy: 0.6821\n",
            "Epoch 5/20\n",
            "1563/1563 [==============================] - 86s 55ms/step - loss: 0.2958 - accuracy: 0.8988 - val_loss: 1.0833 - val_accuracy: 0.6971\n",
            "Epoch 6/20\n",
            "1563/1563 [==============================] - 86s 55ms/step - loss: 0.2071 - accuracy: 0.9304 - val_loss: 1.2187 - val_accuracy: 0.6863\n",
            "Epoch 7/20\n",
            "1563/1563 [==============================] - 86s 55ms/step - loss: 0.1712 - accuracy: 0.9429 - val_loss: 1.2216 - val_accuracy: 0.6885\n",
            "Epoch 8/20\n",
            "1563/1563 [==============================] - 87s 56ms/step - loss: 0.1408 - accuracy: 0.9547 - val_loss: 1.3084 - val_accuracy: 0.6878\n",
            "Epoch 9/20\n",
            "1563/1563 [==============================] - 86s 55ms/step - loss: 0.1291 - accuracy: 0.9593 - val_loss: 1.4799 - val_accuracy: 0.6850\n",
            "Epoch 10/20\n",
            "1563/1563 [==============================] - 86s 55ms/step - loss: 0.1188 - accuracy: 0.9637 - val_loss: 1.4932 - val_accuracy: 0.6897\n",
            "Epoch 11/20\n",
            "1563/1563 [==============================] - 87s 55ms/step - loss: 0.1036 - accuracy: 0.9671 - val_loss: 1.6457 - val_accuracy: 0.6804\n",
            "Epoch 12/20\n",
            "1563/1563 [==============================] - 86s 55ms/step - loss: 0.0991 - accuracy: 0.9692 - val_loss: 1.5677 - val_accuracy: 0.6853\n",
            "Epoch 13/20\n",
            "1563/1563 [==============================] - 86s 55ms/step - loss: 0.0964 - accuracy: 0.9711 - val_loss: 1.5170 - val_accuracy: 0.6937\n",
            "Epoch 14/20\n",
            "1563/1563 [==============================] - 86s 55ms/step - loss: 0.0889 - accuracy: 0.9726 - val_loss: 2.2701 - val_accuracy: 0.6791\n",
            "Epoch 15/20\n",
            "1563/1563 [==============================] - 86s 55ms/step - loss: 0.0829 - accuracy: 0.9758 - val_loss: 1.7191 - val_accuracy: 0.6939\n",
            "Epoch 16/20\n",
            "1563/1563 [==============================] - 86s 55ms/step - loss: 0.0835 - accuracy: 0.9750 - val_loss: 1.7742 - val_accuracy: 0.6912\n",
            "Epoch 17/20\n",
            "1563/1563 [==============================] - 86s 55ms/step - loss: 0.0822 - accuracy: 0.9759 - val_loss: 1.6323 - val_accuracy: 0.6842\n",
            "Epoch 18/20\n",
            "1563/1563 [==============================] - 86s 55ms/step - loss: 0.0757 - accuracy: 0.9779 - val_loss: 2.1780 - val_accuracy: 0.6975\n",
            "Epoch 19/20\n",
            "1563/1563 [==============================] - 86s 55ms/step - loss: 0.0796 - accuracy: 0.9771 - val_loss: 1.7477 - val_accuracy: 0.6772\n",
            "Epoch 20/20\n",
            "1563/1563 [==============================] - 87s 55ms/step - loss: 0.0741 - accuracy: 0.9791 - val_loss: 1.8493 - val_accuracy: 0.6851\n"
          ],
          "name": "stdout"
        }
      ]
    },
    {
      "cell_type": "code",
      "metadata": {
        "id": "XiVGSU-XKWJ0",
        "colab_type": "code",
        "outputId": "af46cb08-53cd-42ff-9c15-23fd8c58f15b",
        "colab": {
          "base_uri": "https://localhost:8080/",
          "height": 283
        }
      },
      "source": [
        "plt.plot(r.history[\"loss\"], label=\"loss\")\n",
        "plt.plot(r.history[\"val_loss\"], label=\"val_loss\")\n",
        "plt.legend()"
      ],
      "execution_count": 16,
      "outputs": [
        {
          "output_type": "execute_result",
          "data": {
            "text/plain": [
              "<matplotlib.legend.Legend at 0x7f015010aa90>"
            ]
          },
          "metadata": {
            "tags": []
          },
          "execution_count": 16
        },
        {
          "output_type": "display_data",
          "data": {
            "image/png": "[encoded data removed]",
            "text/plain": [
              "<Figure size 432x288 with 1 Axes>"
            ]
          },
          "metadata": {
            "tags": [],
            "needs_background": "light"
          }
        }
      ]
    },
    {
      "cell_type": "code",
      "metadata": {
        "id": "5fe5OXBl7jWJ",
        "colab_type": "code",
        "outputId": "680fbcd4-e040-4edd-83fe-15a9b29eb28f",
        "colab": {
          "base_uri": "https://localhost:8080/",
          "height": 285
        }
      },
      "source": [
        "plt.plot(r.history[\"accuracy\"], label=\"acc\")\n",
        "plt.plot(r.history[\"val_accuracy\"], label=\"val_acc\")\n",
        "plt.legend()"
      ],
      "execution_count": 17,
      "outputs": [
        {
          "output_type": "execute_result",
          "data": {
            "text/plain": [
              "<matplotlib.legend.Legend at 0x7f014437e828>"
            ]
          },
          "metadata": {
            "tags": []
          },
          "execution_count": 17
        },
        {
          "output_type": "display_data",
          "data": {
            "image/png": "[encoded data removed]",
            "text/plain": [
              "<Figure size 432x288 with 1 Axes>"
            ]
          },
          "metadata": {
            "tags": [],
            "needs_background": "light"
          }
        }
      ]
    },
    {
      "cell_type": "code",
      "metadata": {
        "id": "6xfJb2mx75gx",
        "colab_type": "code",
        "outputId": "9737ae1f-62e5-4ff2-d759-315d9a619f09",
        "colab": {
          "base_uri": "https://localhost:8080/",
          "height": 502
        }
      },
      "source": [
        "# Plot confusion matrix\n",
        "from sklearn.metrics import confusion_matrix\n",
        "import itertools\n",
        "\n",
        "def plot_confusion_matrix(cm, classes,\n",
        "                          normalize=False,\n",
        "                          title='Confusion matrix',\n",
        "                          cmap=plt.cm.Blues):\n",
        "  \"\"\"\n",
        "  This function prints and plots the confusion matrix.\n",
        "  Normalization can be applied by setting `normalize=True`.\n",
        "  \"\"\"\n",
        "  if normalize:\n",
        "      cm = cm.astype('float') / cm.sum(axis=1)[:, np.newaxis]\n",
        "      print(\"Normalized confusion matrix\")\n",
        "  else:\n",
        "      print('Confusion matrix, without normalization')\n",
        "\n",
        "  print(cm)\n",
        "\n",
        "  plt.imshow(cm, interpolation='nearest', cmap=cmap)\n",
        "  plt.title(title)\n",
        "  plt.colorbar()\n",
        "  tick_marks = np.arange(len(classes))\n",
        "  plt.xticks(tick_marks, classes, rotation=45)\n",
        "  plt.yticks(tick_marks, classes)\n",
        "\n",
        "  fmt = '.2f' if normalize else 'd'\n",
        "  thresh = cm.max() / 2.\n",
        "  for i, j in itertools.product(range(cm.shape[0]), range(cm.shape[1])):\n",
        "      plt.text(j, i, format(cm[i, j], fmt),\n",
        "               horizontalalignment=\"center\",\n",
        "               color=\"white\" if cm[i, j] > thresh else \"black\")\n",
        "\n",
        "  plt.tight_layout()\n",
        "  plt.ylabel('True label')\n",
        "  plt.xlabel('Predicted label')\n",
        "  plt.show()\n",
        "\n",
        "\n",
        "p_test = model.predict(test_images).argmax(axis=1)\n",
        "cm = confusion_matrix(test_labels, p_test)\n",
        "plot_confusion_matrix(cm, list(range(10)))\n"
      ],
      "execution_count": 18,
      "outputs": [
        {
          "output_type": "stream",
          "text": [
            "Confusion matrix, without normalization\n",
            "[[766  25  38  19  21  15   8  22  51  35]\n",
            " [ 21 849   3   4   2   9   5   5  14  88]\n",
            " [ 90  13 527  42 109  87  56  52  12  12]\n",
            " [ 23  21  77 369 101 227  65  64  18  35]\n",
            " [ 26   5  67  44 628  63  45 106   6  10]\n",
            " [ 17   8  55 102  60 624  32  80   7  15]\n",
            " [  9  16  62  35  53  36 755  21   5   8]\n",
            " [ 15   4  33  22  53  61   8 794   2   8]\n",
            " [ 92  60   8  10   7   9   7  10 772  25]\n",
            " [ 34 103  11   9   7  12   6  21  30 767]]\n"
          ],
          "name": "stdout"
        },
        {
          "output_type": "display_data",
          "data": {
            "image/png": "[encoded data removed]",
            "text/plain": [
              "<Figure size 432x288 with 2 Axes>"
            ]
          },
          "metadata": {
            "tags": [],
            "needs_background": "light"
          }
        }
      ]
    },
    {
      "cell_type": "code",
      "metadata": {
        "id": "hJ9vV23s78WZ",
        "colab_type": "code",
        "colab": {}
      },
      "source": [
        "# label mapping\n",
        "labels = '''airplane\n",
        "automobile\n",
        "bird\n",
        "cat\n",
        "deer\n",
        "dog\n",
        "frog\n",
        "horse\n",
        "ship\n",
        "truck'''.split()"
      ],
      "execution_count": 0,
      "outputs": []
    },
    {
      "cell_type": "code",
      "metadata": {
        "id": "PZHpDt0du_7G",
        "colab_type": "code",
        "colab": {}
      },
      "source": [
        "# Show some misclassified examples\n",
        "misclassified_idx = np.where(p_test != test_labels)[0]\n",
        "i = np.random.choice(misclassified_idx)\n",
        "plt.imshow(test_images[i], cmap='gray')\n",
        "plt.title(\"True label: %s Predicted: %s\" % (labels[test_labels[i]], labels[p_test[i]]));"
      ],
      "execution_count": 0,
      "outputs": []
    }
  ]
}